{
 "cells": [
  {
   "cell_type": "code",
   "execution_count": 8,
   "metadata": {},
   "outputs": [],
   "source": [
    "import requests\n",
    "from PIL import Image\n",
    "from io import BytesIO"
   ]
  },
  {
   "cell_type": "code",
   "execution_count": 20,
   "metadata": {},
   "outputs": [
    {
     "name": "stdout",
     "output_type": "stream",
     "text": [
      "Response: {'Predicted class': 'ice lolly, lolly, lollipop, popsicle'}\n"
     ]
    }
   ],
   "source": [
    "image_path = '.\\images\\lod.jpg'\n",
    "\n",
    "image = Image.open(image_path)\n",
    "\n",
    "img_byte_array = BytesIO()\n",
    "image.save(img_byte_array, format='JPEG')\n",
    "img_byte_array = img_byte_array.getvalue()\n",
    "\n",
    "url = 'http://localhost:3000/classify'\n",
    "\n",
    "response = requests.post(url, files={\"image\": img_byte_array})\n",
    "\n",
    "if response.status_code == 200:\n",
    "    print('Response:', response.json())\n",
    "else:\n",
    "    print('Error:', response.status_code)"
   ]
  }
 ],
 "metadata": {
  "kernelspec": {
   "display_name": "Python 3",
   "language": "python",
   "name": "python3"
  },
  "language_info": {
   "codemirror_mode": {
    "name": "ipython",
    "version": 3
   },
   "file_extension": ".py",
   "mimetype": "text/x-python",
   "name": "python",
   "nbconvert_exporter": "python",
   "pygments_lexer": "ipython3",
   "version": "3.11.1"
  }
 },
 "nbformat": 4,
 "nbformat_minor": 2
}
